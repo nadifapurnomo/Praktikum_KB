{
 "cells": [
  {
   "cell_type": "markdown",
   "id": "2d62118b-4f56-4948-8ff3-b1e567ce5d6d",
   "metadata": {},
   "source": [
    "<h4>Nama  : Nadifa Salsabila Purnomo</h4>\n",
    "<h4>Nim   : 2209106044</h4>\n",
    "<h4>Kelas : Informatika A2 2022</h4>\n",
    "<h4>POST TEST 4 KECERDASAN BUATAN</h4>"
   ]
  },
  {
   "cell_type": "markdown",
   "id": "1ddd210c-072f-4a2e-9aea-b0779ff12d9e",
   "metadata": {},
   "source": [
    "<h4>Import Package</h4>"
   ]
  },
  {
   "cell_type": "code",
   "execution_count": 2,
   "id": "ee58f404-f935-42db-b7be-7c923774898f",
   "metadata": {},
   "outputs": [],
   "source": [
    "from sklearn.model_selection import train_test_split\n",
    "from sklearn.preprocessing import MinMaxScaler\n",
    "from sklearn.preprocessing import StandardScaler\n",
    "from sklearn.preprocessing import OneHotEncoder\n",
    "import pandas as pd\n",
    "import numpy as np"
   ]
  },
  {
   "cell_type": "markdown",
   "id": "47d5b33e-da63-4316-b606-c882cd54924f",
   "metadata": {},
   "source": [
    "<h4>Deklarasi file CSV</h4>"
   ]
  },
  {
   "cell_type": "code",
   "execution_count": 22,
   "id": "13f88887-5004-4d8e-9727-53612c08764d",
   "metadata": {},
   "outputs": [
    {
     "data": {
      "text/html": [
       "<div>\n",
       "<style scoped>\n",
       "    .dataframe tbody tr th:only-of-type {\n",
       "        vertical-align: middle;\n",
       "    }\n",
       "\n",
       "    .dataframe tbody tr th {\n",
       "        vertical-align: top;\n",
       "    }\n",
       "\n",
       "    .dataframe thead th {\n",
       "        text-align: right;\n",
       "    }\n",
       "</style>\n",
       "<table border=\"1\" class=\"dataframe\">\n",
       "  <thead>\n",
       "    <tr style=\"text-align: right;\">\n",
       "      <th></th>\n",
       "      <th>City</th>\n",
       "      <th>Price</th>\n",
       "      <th>Day</th>\n",
       "      <th>Room Type</th>\n",
       "      <th>Shared Room</th>\n",
       "      <th>Private Room</th>\n",
       "      <th>Person Capacity</th>\n",
       "      <th>Superhost</th>\n",
       "      <th>Multiple Rooms</th>\n",
       "      <th>Business</th>\n",
       "      <th>Cleanliness Rating</th>\n",
       "      <th>Guest Satisfaction</th>\n",
       "      <th>Bedrooms</th>\n",
       "      <th>City Center (km)</th>\n",
       "      <th>Metro Distance (km)</th>\n",
       "      <th>Attraction Index</th>\n",
       "      <th>Normalised Attraction Index</th>\n",
       "      <th>Restraunt Index</th>\n",
       "      <th>Normalised Restraunt Index</th>\n",
       "    </tr>\n",
       "  </thead>\n",
       "  <tbody>\n",
       "    <tr>\n",
       "      <th>0</th>\n",
       "      <td>Amsterdam</td>\n",
       "      <td>194.033698</td>\n",
       "      <td>Weekday</td>\n",
       "      <td>Private room</td>\n",
       "      <td>False</td>\n",
       "      <td>True</td>\n",
       "      <td>2.0</td>\n",
       "      <td>False</td>\n",
       "      <td>1</td>\n",
       "      <td>0</td>\n",
       "      <td>10.0</td>\n",
       "      <td>93.0</td>\n",
       "      <td>1</td>\n",
       "      <td>5.022964</td>\n",
       "      <td>2.539380</td>\n",
       "      <td>78.690379</td>\n",
       "      <td>4.166708</td>\n",
       "      <td>98.253896</td>\n",
       "      <td>6.846473</td>\n",
       "    </tr>\n",
       "    <tr>\n",
       "      <th>1</th>\n",
       "      <td>Amsterdam</td>\n",
       "      <td>344.245776</td>\n",
       "      <td>Weekday</td>\n",
       "      <td>Private room</td>\n",
       "      <td>False</td>\n",
       "      <td>True</td>\n",
       "      <td>4.0</td>\n",
       "      <td>False</td>\n",
       "      <td>0</td>\n",
       "      <td>0</td>\n",
       "      <td>8.0</td>\n",
       "      <td>85.0</td>\n",
       "      <td>1</td>\n",
       "      <td>0.488389</td>\n",
       "      <td>0.239404</td>\n",
       "      <td>631.176378</td>\n",
       "      <td>33.421209</td>\n",
       "      <td>837.280757</td>\n",
       "      <td>58.342928</td>\n",
       "    </tr>\n",
       "    <tr>\n",
       "      <th>2</th>\n",
       "      <td>Amsterdam</td>\n",
       "      <td>264.101422</td>\n",
       "      <td>Weekday</td>\n",
       "      <td>Private room</td>\n",
       "      <td>False</td>\n",
       "      <td>True</td>\n",
       "      <td>2.0</td>\n",
       "      <td>False</td>\n",
       "      <td>0</td>\n",
       "      <td>1</td>\n",
       "      <td>9.0</td>\n",
       "      <td>87.0</td>\n",
       "      <td>1</td>\n",
       "      <td>5.748312</td>\n",
       "      <td>3.651621</td>\n",
       "      <td>75.275877</td>\n",
       "      <td>3.985908</td>\n",
       "      <td>95.386955</td>\n",
       "      <td>6.646700</td>\n",
       "    </tr>\n",
       "    <tr>\n",
       "      <th>3</th>\n",
       "      <td>Amsterdam</td>\n",
       "      <td>433.529398</td>\n",
       "      <td>Weekday</td>\n",
       "      <td>Private room</td>\n",
       "      <td>False</td>\n",
       "      <td>True</td>\n",
       "      <td>4.0</td>\n",
       "      <td>False</td>\n",
       "      <td>0</td>\n",
       "      <td>1</td>\n",
       "      <td>9.0</td>\n",
       "      <td>90.0</td>\n",
       "      <td>2</td>\n",
       "      <td>0.384862</td>\n",
       "      <td>0.439876</td>\n",
       "      <td>493.272534</td>\n",
       "      <td>26.119108</td>\n",
       "      <td>875.033098</td>\n",
       "      <td>60.973565</td>\n",
       "    </tr>\n",
       "    <tr>\n",
       "      <th>4</th>\n",
       "      <td>Amsterdam</td>\n",
       "      <td>485.552926</td>\n",
       "      <td>Weekday</td>\n",
       "      <td>Private room</td>\n",
       "      <td>False</td>\n",
       "      <td>True</td>\n",
       "      <td>2.0</td>\n",
       "      <td>True</td>\n",
       "      <td>0</td>\n",
       "      <td>0</td>\n",
       "      <td>10.0</td>\n",
       "      <td>98.0</td>\n",
       "      <td>1</td>\n",
       "      <td>0.544738</td>\n",
       "      <td>0.318693</td>\n",
       "      <td>552.830324</td>\n",
       "      <td>29.272733</td>\n",
       "      <td>815.305740</td>\n",
       "      <td>56.811677</td>\n",
       "    </tr>\n",
       "    <tr>\n",
       "      <th>...</th>\n",
       "      <td>...</td>\n",
       "      <td>...</td>\n",
       "      <td>...</td>\n",
       "      <td>...</td>\n",
       "      <td>...</td>\n",
       "      <td>...</td>\n",
       "      <td>...</td>\n",
       "      <td>...</td>\n",
       "      <td>...</td>\n",
       "      <td>...</td>\n",
       "      <td>...</td>\n",
       "      <td>...</td>\n",
       "      <td>...</td>\n",
       "      <td>...</td>\n",
       "      <td>...</td>\n",
       "      <td>...</td>\n",
       "      <td>...</td>\n",
       "      <td>...</td>\n",
       "      <td>...</td>\n",
       "    </tr>\n",
       "    <tr>\n",
       "      <th>41709</th>\n",
       "      <td>Vienna</td>\n",
       "      <td>715.938574</td>\n",
       "      <td>Weekend</td>\n",
       "      <td>Entire home/apt</td>\n",
       "      <td>False</td>\n",
       "      <td>False</td>\n",
       "      <td>6.0</td>\n",
       "      <td>False</td>\n",
       "      <td>0</td>\n",
       "      <td>1</td>\n",
       "      <td>10.0</td>\n",
       "      <td>100.0</td>\n",
       "      <td>3</td>\n",
       "      <td>0.530181</td>\n",
       "      <td>0.135447</td>\n",
       "      <td>219.402478</td>\n",
       "      <td>15.712158</td>\n",
       "      <td>438.756874</td>\n",
       "      <td>10.604584</td>\n",
       "    </tr>\n",
       "    <tr>\n",
       "      <th>41710</th>\n",
       "      <td>Vienna</td>\n",
       "      <td>304.793960</td>\n",
       "      <td>Weekend</td>\n",
       "      <td>Entire home/apt</td>\n",
       "      <td>False</td>\n",
       "      <td>False</td>\n",
       "      <td>2.0</td>\n",
       "      <td>False</td>\n",
       "      <td>0</td>\n",
       "      <td>0</td>\n",
       "      <td>8.0</td>\n",
       "      <td>86.0</td>\n",
       "      <td>1</td>\n",
       "      <td>0.810205</td>\n",
       "      <td>0.100839</td>\n",
       "      <td>204.970121</td>\n",
       "      <td>14.678608</td>\n",
       "      <td>342.182813</td>\n",
       "      <td>8.270427</td>\n",
       "    </tr>\n",
       "    <tr>\n",
       "      <th>41711</th>\n",
       "      <td>Vienna</td>\n",
       "      <td>637.168969</td>\n",
       "      <td>Weekend</td>\n",
       "      <td>Entire home/apt</td>\n",
       "      <td>False</td>\n",
       "      <td>False</td>\n",
       "      <td>2.0</td>\n",
       "      <td>False</td>\n",
       "      <td>0</td>\n",
       "      <td>0</td>\n",
       "      <td>10.0</td>\n",
       "      <td>93.0</td>\n",
       "      <td>1</td>\n",
       "      <td>0.994051</td>\n",
       "      <td>0.202539</td>\n",
       "      <td>169.073402</td>\n",
       "      <td>12.107921</td>\n",
       "      <td>282.296424</td>\n",
       "      <td>6.822996</td>\n",
       "    </tr>\n",
       "    <tr>\n",
       "      <th>41712</th>\n",
       "      <td>Vienna</td>\n",
       "      <td>301.054157</td>\n",
       "      <td>Weekend</td>\n",
       "      <td>Private room</td>\n",
       "      <td>False</td>\n",
       "      <td>True</td>\n",
       "      <td>2.0</td>\n",
       "      <td>False</td>\n",
       "      <td>0</td>\n",
       "      <td>0</td>\n",
       "      <td>10.0</td>\n",
       "      <td>87.0</td>\n",
       "      <td>1</td>\n",
       "      <td>3.044100</td>\n",
       "      <td>0.287435</td>\n",
       "      <td>109.236574</td>\n",
       "      <td>7.822803</td>\n",
       "      <td>158.563398</td>\n",
       "      <td>3.832416</td>\n",
       "    </tr>\n",
       "    <tr>\n",
       "      <th>41713</th>\n",
       "      <td>Vienna</td>\n",
       "      <td>133.230489</td>\n",
       "      <td>Weekend</td>\n",
       "      <td>Private room</td>\n",
       "      <td>False</td>\n",
       "      <td>True</td>\n",
       "      <td>4.0</td>\n",
       "      <td>True</td>\n",
       "      <td>1</td>\n",
       "      <td>0</td>\n",
       "      <td>10.0</td>\n",
       "      <td>93.0</td>\n",
       "      <td>1</td>\n",
       "      <td>1.263932</td>\n",
       "      <td>0.480903</td>\n",
       "      <td>150.450381</td>\n",
       "      <td>10.774264</td>\n",
       "      <td>225.247293</td>\n",
       "      <td>5.444140</td>\n",
       "    </tr>\n",
       "  </tbody>\n",
       "</table>\n",
       "<p>41714 rows × 19 columns</p>\n",
       "</div>"
      ],
      "text/plain": [
       "            City       Price      Day        Room Type  Shared Room  \\\n",
       "0      Amsterdam  194.033698  Weekday     Private room        False   \n",
       "1      Amsterdam  344.245776  Weekday     Private room        False   \n",
       "2      Amsterdam  264.101422  Weekday     Private room        False   \n",
       "3      Amsterdam  433.529398  Weekday     Private room        False   \n",
       "4      Amsterdam  485.552926  Weekday     Private room        False   \n",
       "...          ...         ...      ...              ...          ...   \n",
       "41709     Vienna  715.938574  Weekend  Entire home/apt        False   \n",
       "41710     Vienna  304.793960  Weekend  Entire home/apt        False   \n",
       "41711     Vienna  637.168969  Weekend  Entire home/apt        False   \n",
       "41712     Vienna  301.054157  Weekend     Private room        False   \n",
       "41713     Vienna  133.230489  Weekend     Private room        False   \n",
       "\n",
       "       Private Room  Person Capacity  Superhost  Multiple Rooms  Business  \\\n",
       "0              True              2.0      False               1         0   \n",
       "1              True              4.0      False               0         0   \n",
       "2              True              2.0      False               0         1   \n",
       "3              True              4.0      False               0         1   \n",
       "4              True              2.0       True               0         0   \n",
       "...             ...              ...        ...             ...       ...   \n",
       "41709         False              6.0      False               0         1   \n",
       "41710         False              2.0      False               0         0   \n",
       "41711         False              2.0      False               0         0   \n",
       "41712          True              2.0      False               0         0   \n",
       "41713          True              4.0       True               1         0   \n",
       "\n",
       "       Cleanliness Rating  Guest Satisfaction  Bedrooms  City Center (km)  \\\n",
       "0                    10.0                93.0         1          5.022964   \n",
       "1                     8.0                85.0         1          0.488389   \n",
       "2                     9.0                87.0         1          5.748312   \n",
       "3                     9.0                90.0         2          0.384862   \n",
       "4                    10.0                98.0         1          0.544738   \n",
       "...                   ...                 ...       ...               ...   \n",
       "41709                10.0               100.0         3          0.530181   \n",
       "41710                 8.0                86.0         1          0.810205   \n",
       "41711                10.0                93.0         1          0.994051   \n",
       "41712                10.0                87.0         1          3.044100   \n",
       "41713                10.0                93.0         1          1.263932   \n",
       "\n",
       "       Metro Distance (km)  Attraction Index  Normalised Attraction Index  \\\n",
       "0                 2.539380         78.690379                     4.166708   \n",
       "1                 0.239404        631.176378                    33.421209   \n",
       "2                 3.651621         75.275877                     3.985908   \n",
       "3                 0.439876        493.272534                    26.119108   \n",
       "4                 0.318693        552.830324                    29.272733   \n",
       "...                    ...               ...                          ...   \n",
       "41709             0.135447        219.402478                    15.712158   \n",
       "41710             0.100839        204.970121                    14.678608   \n",
       "41711             0.202539        169.073402                    12.107921   \n",
       "41712             0.287435        109.236574                     7.822803   \n",
       "41713             0.480903        150.450381                    10.774264   \n",
       "\n",
       "       Restraunt Index  Normalised Restraunt Index  \n",
       "0            98.253896                    6.846473  \n",
       "1           837.280757                   58.342928  \n",
       "2            95.386955                    6.646700  \n",
       "3           875.033098                   60.973565  \n",
       "4           815.305740                   56.811677  \n",
       "...                ...                         ...  \n",
       "41709       438.756874                   10.604584  \n",
       "41710       342.182813                    8.270427  \n",
       "41711       282.296424                    6.822996  \n",
       "41712       158.563398                    3.832416  \n",
       "41713       225.247293                    5.444140  \n",
       "\n",
       "[41714 rows x 19 columns]"
      ]
     },
     "execution_count": 22,
     "metadata": {},
     "output_type": "execute_result"
    }
   ],
   "source": [
    "nana = pd.read_csv('Aemf1.csv')\n",
    "nana"
   ]
  },
  {
   "cell_type": "markdown",
   "id": "0bd8bb31-981e-4b86-8ca0-fabc3d0d163e",
   "metadata": {},
   "source": [
    "<h4>Menampilkan informasi yang ada pada dataset, untuk melihat seberapa banyak objek di dalamnya</h4>"
   ]
  },
  {
   "cell_type": "code",
   "execution_count": 4,
   "id": "ef2a45a1-7582-4cc9-88af-46a8fffab7c2",
   "metadata": {},
   "outputs": [
    {
     "name": "stdout",
     "output_type": "stream",
     "text": [
      "<class 'pandas.core.frame.DataFrame'>\n",
      "RangeIndex: 41714 entries, 0 to 41713\n",
      "Data columns (total 19 columns):\n",
      " #   Column                       Non-Null Count  Dtype  \n",
      "---  ------                       --------------  -----  \n",
      " 0   City                         41714 non-null  object \n",
      " 1   Price                        41714 non-null  float64\n",
      " 2   Day                          41714 non-null  object \n",
      " 3   Room Type                    41714 non-null  object \n",
      " 4   Shared Room                  41714 non-null  bool   \n",
      " 5   Private Room                 41714 non-null  bool   \n",
      " 6   Person Capacity              41714 non-null  float64\n",
      " 7   Superhost                    41714 non-null  bool   \n",
      " 8   Multiple Rooms               41714 non-null  int64  \n",
      " 9   Business                     41714 non-null  int64  \n",
      " 10  Cleanliness Rating           41714 non-null  float64\n",
      " 11  Guest Satisfaction           41714 non-null  float64\n",
      " 12  Bedrooms                     41714 non-null  int64  \n",
      " 13  City Center (km)             41714 non-null  float64\n",
      " 14  Metro Distance (km)          41714 non-null  float64\n",
      " 15  Attraction Index             41714 non-null  float64\n",
      " 16  Normalised Attraction Index  41714 non-null  float64\n",
      " 17  Restraunt Index              41714 non-null  float64\n",
      " 18  Normalised Restraunt Index   41714 non-null  float64\n",
      "dtypes: bool(3), float64(10), int64(3), object(3)\n",
      "memory usage: 5.2+ MB\n"
     ]
    }
   ],
   "source": [
    "nana.info()"
   ]
  },
  {
   "cell_type": "markdown",
   "id": "958b19c5-27c4-4173-b4df-8a0a5369bc21",
   "metadata": {},
   "source": [
    "<h4>Membagi dataset menjadi training set dan testing set dengan proporsi 70:30</h4>"
   ]
  },
  {
   "cell_type": "code",
   "execution_count": 5,
   "id": "5d8981ed-b563-47a8-8cdf-353ee7c80484",
   "metadata": {},
   "outputs": [],
   "source": [
    "x = nana.iloc[:,:-1]\n",
    "y = nana.iloc[:,-1]"
   ]
  },
  {
   "cell_type": "markdown",
   "id": "02ec4b6f-e938-4b74-95be-32f166c3b408",
   "metadata": {},
   "source": [
    "Kelas train test split"
   ]
  },
  {
   "cell_type": "code",
   "execution_count": 6,
   "id": "037149db-b2f9-4f32-b052-a928dc65c13f",
   "metadata": {},
   "outputs": [],
   "source": [
    "X_train, X_test, y_train, y_test = train_test_split(x, y, test_size=0.3)"
   ]
  },
  {
   "cell_type": "code",
   "execution_count": 7,
   "id": "a643d0ed-14b4-412f-b95f-594baa41401e",
   "metadata": {},
   "outputs": [
    {
     "name": "stdout",
     "output_type": "stream",
     "text": [
      "Dimensi x_train :  (29199, 18)\n",
      "Dimensi x_test :  (12515, 18)\n",
      "Dimensi y_train :  (29199,)\n",
      "Dimensi y_test :  (12515,)\n"
     ]
    }
   ],
   "source": [
    "print ('Dimensi x_train : ',X_train.shape)\n",
    "print ('Dimensi x_test : ',X_test.shape)\n",
    "print ('Dimensi y_train : ',y_train.shape)\n",
    "print ('Dimensi y_test : ',y_test.shape)"
   ]
  },
  {
   "cell_type": "markdown",
   "id": "a134e171-1c5c-4956-bdbb-39e5c1ecc342",
   "metadata": {},
   "source": [
    "<h4>Melakukan normalisasi data pada salah satu attribute menggunakan Min Max scaler (buatlah copy dataset terlebih dahulu)</h4>"
   ]
  },
  {
   "cell_type": "code",
   "execution_count": 8,
   "id": "10246b7d-090a-49b9-a51d-a607ce8bfac5",
   "metadata": {},
   "outputs": [],
   "source": [
    "nanaa = pd.read_csv('Aemf1 - Copy.csv')"
   ]
  },
  {
   "cell_type": "code",
   "execution_count": 9,
   "id": "5607085e-3901-4328-8fce-7a920fbf01c8",
   "metadata": {},
   "outputs": [],
   "source": [
    "minmax =MinMaxScaler()"
   ]
  },
  {
   "cell_type": "code",
   "execution_count": 10,
   "id": "d09a95b8-0e18-4c4d-8796-c3c18a56f675",
   "metadata": {},
   "outputs": [],
   "source": [
    "nanaa['Cleanliness Rating'] = minmax.fit_transform(nanaa[['Cleanliness Rating']])"
   ]
  },
  {
   "cell_type": "code",
   "execution_count": 11,
   "id": "f442a1db-adef-4342-9cb2-a696d8743592",
   "metadata": {},
   "outputs": [
    {
     "name": "stdout",
     "output_type": "stream",
     "text": [
      "Kolom 'Cleanliness Rating' sebelum dilakukan normalisasi : \n",
      "count    41714.000000\n",
      "mean         9.442274\n",
      "std          0.889173\n",
      "min          2.000000\n",
      "25%          9.000000\n",
      "50%         10.000000\n",
      "75%         10.000000\n",
      "max         10.000000\n",
      "Name: Cleanliness Rating, dtype: float64\n"
     ]
    }
   ],
   "source": [
    "print(\"Kolom 'Cleanliness Rating' sebelum dilakukan normalisasi : \")\n",
    "print(nana['Cleanliness Rating'].describe())"
   ]
  },
  {
   "cell_type": "code",
   "execution_count": 12,
   "id": "a3f1d5c5-0823-4c60-ae5f-fa14dfffa657",
   "metadata": {},
   "outputs": [
    {
     "name": "stdout",
     "output_type": "stream",
     "text": [
      "Kolom 'Cleanliness Rating' sesudah dilakukan normalisasi : \n",
      "count    41714.000000\n",
      "mean         0.930284\n",
      "std          0.111147\n",
      "min          0.000000\n",
      "25%          0.875000\n",
      "50%          1.000000\n",
      "75%          1.000000\n",
      "max          1.000000\n",
      "Name: Cleanliness Rating, dtype: float64\n"
     ]
    }
   ],
   "source": [
    "print(\"Kolom 'Cleanliness Rating' sesudah dilakukan normalisasi : \")\n",
    "print(nanaa['Cleanliness Rating'].describe())"
   ]
  },
  {
   "cell_type": "markdown",
   "id": "897de2da-c39c-49f9-a140-b9655de786a7",
   "metadata": {},
   "source": [
    "<h4>Melakukan standarisasi pada dataset (buatlah copy dataset terlebih dahulu)</h4>"
   ]
  },
  {
   "cell_type": "code",
   "execution_count": 13,
   "id": "9b62cc90-4568-4d03-a80c-cfee49b22bd3",
   "metadata": {},
   "outputs": [],
   "source": [
    "nanaaa = pd.read_csv('Aemf1 - Copy (2).csv')"
   ]
  },
  {
   "cell_type": "code",
   "execution_count": 14,
   "id": "e65ffebe-bd57-41a5-a6e4-7e133b1ee91b",
   "metadata": {},
   "outputs": [],
   "source": [
    "ss = StandardScaler()"
   ]
  },
  {
   "cell_type": "code",
   "execution_count": 15,
   "id": "89a64a18-5cbb-4d10-b4fd-432f5e2e7689",
   "metadata": {},
   "outputs": [],
   "source": [
    "nanaaa['Cleanliness Rating'] = ss.fit_transform(nanaaa[['Cleanliness Rating']])"
   ]
  },
  {
   "cell_type": "code",
   "execution_count": 16,
   "id": "c8971f3d-b9ab-4aba-bdd5-ccadc70ca6ae",
   "metadata": {},
   "outputs": [
    {
     "name": "stdout",
     "output_type": "stream",
     "text": [
      "Nilai sebelum deviasi standar: \n",
      "0.8891623821933069\n",
      "Nilai sebelum data scaling: \n",
      "0        10.0\n",
      "1         8.0\n",
      "2         9.0\n",
      "3         9.0\n",
      "4        10.0\n",
      "         ... \n",
      "41709    10.0\n",
      "41710     8.0\n",
      "41711    10.0\n",
      "41712    10.0\n",
      "41713    10.0\n",
      "Name: Cleanliness Rating, Length: 41714, dtype: float64\n"
     ]
    }
   ],
   "source": [
    "print(\"Nilai sebelum deviasi standar: \")\n",
    "print(np.std(nana['Cleanliness Rating']))\n",
    "print(\"Nilai sebelum data scaling: \")\n",
    "print(nana['Cleanliness Rating'])"
   ]
  },
  {
   "cell_type": "code",
   "execution_count": 17,
   "id": "277e30d0-50dc-4530-8682-c5fa594631e7",
   "metadata": {},
   "outputs": [
    {
     "name": "stdout",
     "output_type": "stream",
     "text": [
      "Nilai sesudah deviasi standar: \n",
      "0.9999999999999998\n",
      "Nilai sesudah data scaling: \n",
      "0        0.627249\n",
      "1       -1.622059\n",
      "2       -0.497405\n",
      "3       -0.497405\n",
      "4        0.627249\n",
      "           ...   \n",
      "41709    0.627249\n",
      "41710   -1.622059\n",
      "41711    0.627249\n",
      "41712    0.627249\n",
      "41713    0.627249\n",
      "Name: Cleanliness Rating, Length: 41714, dtype: float64\n"
     ]
    }
   ],
   "source": [
    "print(\"Nilai sesudah deviasi standar: \")\n",
    "print(np.std(nanaaa['Cleanliness Rating']))\n",
    "print(\"Nilai sesudah data scaling: \")\n",
    "print(nanaaa['Cleanliness Rating'])"
   ]
  },
  {
   "cell_type": "markdown",
   "id": "bb6a8524-2d2a-4dfc-adec-3e863eef120b",
   "metadata": {},
   "source": [
    "<h4>Melakukan data cleaning pada data dengan nilai null dan mengubah nilai null sesusai dengan ketentuan di GCR</h4>"
   ]
  },
  {
   "cell_type": "markdown",
   "id": "3f2eecd9-d1d3-4135-91d0-c8d72986efd3",
   "metadata": {},
   "source": [
    "Mengecek apakah terdapat data dengan nilai null ?"
   ]
  },
  {
   "cell_type": "code",
   "execution_count": 18,
   "id": "22fd9164-a6c3-4884-bbfe-af4e1aa36b89",
   "metadata": {},
   "outputs": [
    {
     "data": {
      "text/plain": [
       "City                           0\n",
       "Price                          0\n",
       "Day                            0\n",
       "Room Type                      0\n",
       "Shared Room                    0\n",
       "Private Room                   0\n",
       "Person Capacity                0\n",
       "Superhost                      0\n",
       "Multiple Rooms                 0\n",
       "Business                       0\n",
       "Cleanliness Rating             0\n",
       "Guest Satisfaction             0\n",
       "Bedrooms                       0\n",
       "City Center (km)               0\n",
       "Metro Distance (km)            0\n",
       "Attraction Index               0\n",
       "Normalised Attraction Index    0\n",
       "Restraunt Index                0\n",
       "Normalised Restraunt Index     0\n",
       "dtype: int64"
      ]
     },
     "execution_count": 18,
     "metadata": {},
     "output_type": "execute_result"
    }
   ],
   "source": [
    "nana.isna().sum()"
   ]
  },
  {
   "cell_type": "markdown",
   "id": "8c543ce1-8287-44ec-aad3-58671a1bec74",
   "metadata": {},
   "source": [
    "Karena tidak ada data dengan nilai null maka kita akan menambah nilai null"
   ]
  },
  {
   "cell_type": "code",
   "execution_count": 19,
   "id": "26214835-4bd7-4784-97a5-d17b74b39bef",
   "metadata": {},
   "outputs": [],
   "source": [
    "nana.loc[0:, 'Person Capacity'] = np.nan #float\n",
    "nana.loc[0:, 'City'] = np.nan #object\n",
    "nanaa.loc[0:, 'Bedrooms'] = np.nan #int"
   ]
  },
  {
   "cell_type": "markdown",
   "id": "cea4d1ea-aff0-4a47-95c0-0dc47a9965d9",
   "metadata": {},
   "source": [
    "Mengganti nilai null pada bilangan desimal dengan mean (float)"
   ]
  },
  {
   "cell_type": "code",
   "execution_count": 20,
   "id": "2357cea7-d065-4e6b-88dc-38d2ac67a31b",
   "metadata": {},
   "outputs": [],
   "source": [
    "mean = nana['Person Capacity'].mean()\n",
    "nana['Person Capacity'].fillna(mean, inplace=True)"
   ]
  },
  {
   "cell_type": "markdown",
   "id": "26939d59-3086-4ee9-85c5-ba0266433a7a",
   "metadata": {},
   "source": [
    "Mengganti nilai null pada kolom teks dengan modus (object)"
   ]
  },
  {
   "cell_type": "code",
   "execution_count": 23,
   "id": "228b598e-1d82-4bea-965e-60926816f81c",
   "metadata": {},
   "outputs": [],
   "source": [
    "modus = nana ['City'].mode()[0]\n",
    "nana['City'].fillna(modus, inplace=True)"
   ]
  },
  {
   "cell_type": "markdown",
   "id": "0eb50a01-34ed-4dc2-b702-22c440634190",
   "metadata": {},
   "source": [
    "Mengganti nilai null pada bilangan bulat dengan median (int)"
   ]
  },
  {
   "cell_type": "code",
   "execution_count": 24,
   "id": "469c00f2-7c32-4341-95fa-6c3acaecbda6",
   "metadata": {},
   "outputs": [],
   "source": [
    "median = nana['Bedrooms'].median()\n",
    "nana['Bedrooms'].fillna(median, inplace=True)"
   ]
  },
  {
   "cell_type": "markdown",
   "id": "1e1cb7c1-94f3-4fff-bd9d-3a869c304bde",
   "metadata": {},
   "source": [
    "<h4>Melakukan data cleaning pada data dengan nilai duplikat</h4>"
   ]
  },
  {
   "cell_type": "code",
   "execution_count": 25,
   "id": "38caa1f6-049a-47a1-9b6a-81479c1b5c5f",
   "metadata": {},
   "outputs": [
    {
     "data": {
      "text/plain": [
       "0        False\n",
       "1        False\n",
       "2        False\n",
       "3        False\n",
       "4        False\n",
       "         ...  \n",
       "41709    False\n",
       "41710    False\n",
       "41711    False\n",
       "41712    False\n",
       "41713    False\n",
       "Length: 41714, dtype: bool"
      ]
     },
     "execution_count": 25,
     "metadata": {},
     "output_type": "execute_result"
    }
   ],
   "source": [
    "nana.duplicated()"
   ]
  },
  {
   "cell_type": "code",
   "execution_count": 26,
   "id": "e4d69924-640b-4df7-89d4-ea8cd7803d80",
   "metadata": {},
   "outputs": [],
   "source": [
    "nana.iloc[41710,:] = nana.iloc[41711, :]"
   ]
  },
  {
   "cell_type": "code",
   "execution_count": 27,
   "id": "a2bcda72-1b2b-4bbe-a526-f75761463f62",
   "metadata": {},
   "outputs": [
    {
     "data": {
      "text/plain": [
       "1"
      ]
     },
     "execution_count": 27,
     "metadata": {},
     "output_type": "execute_result"
    }
   ],
   "source": [
    "nana.duplicated().sum()"
   ]
  },
  {
   "cell_type": "code",
   "execution_count": 28,
   "id": "1a7ffafb-22c3-47c9-a58e-e16ec2cd67b3",
   "metadata": {},
   "outputs": [
    {
     "data": {
      "text/plain": [
       "0        False\n",
       "1        False\n",
       "2        False\n",
       "3        False\n",
       "4        False\n",
       "         ...  \n",
       "41709    False\n",
       "41710    False\n",
       "41711     True\n",
       "41712    False\n",
       "41713    False\n",
       "Length: 41714, dtype: bool"
      ]
     },
     "execution_count": 28,
     "metadata": {},
     "output_type": "execute_result"
    }
   ],
   "source": [
    "nana.duplicated()"
   ]
  },
  {
   "cell_type": "code",
   "execution_count": 29,
   "id": "efdd5f4a-445e-4ab4-9eb5-d066f6ff5979",
   "metadata": {},
   "outputs": [
    {
     "data": {
      "text/plain": [
       "0"
      ]
     },
     "execution_count": 29,
     "metadata": {},
     "output_type": "execute_result"
    }
   ],
   "source": [
    "nana.drop_duplicates(inplace=True)\n",
    "nana.duplicated().sum()"
   ]
  },
  {
   "cell_type": "code",
   "execution_count": 30,
   "id": "82106f2b-b252-47d6-8cbe-4d94a4c6df74",
   "metadata": {},
   "outputs": [
    {
     "data": {
      "text/plain": [
       "0        False\n",
       "1        False\n",
       "2        False\n",
       "3        False\n",
       "4        False\n",
       "         ...  \n",
       "41708    False\n",
       "41709    False\n",
       "41710    False\n",
       "41712    False\n",
       "41713    False\n",
       "Length: 41713, dtype: bool"
      ]
     },
     "execution_count": 30,
     "metadata": {},
     "output_type": "execute_result"
    }
   ],
   "source": [
    "nana.duplicated()"
   ]
  },
  {
   "cell_type": "markdown",
   "id": "bd578825-7040-45e6-92e2-6df982d3c6ef",
   "metadata": {},
   "source": [
    "<h4>Mengganti tipe data salah satu attribute angka</h4>"
   ]
  },
  {
   "cell_type": "code",
   "execution_count": 31,
   "id": "59127525-8ca4-4364-9c8e-5924bc177513",
   "metadata": {},
   "outputs": [
    {
     "name": "stdout",
     "output_type": "stream",
     "text": [
      "Tipe data kolom 'Bedrooms' sebelum perubahan:\n",
      "int64\n"
     ]
    }
   ],
   "source": [
    "print(\"Tipe data kolom 'Bedrooms' sebelum perubahan:\")\n",
    "print(nana['Bedrooms'].dtype)"
   ]
  },
  {
   "cell_type": "markdown",
   "id": "526385b9-4c86-4815-b5ce-9c9c77c3310c",
   "metadata": {},
   "source": [
    "Kita mengubah tipe data int menjadi float"
   ]
  },
  {
   "cell_type": "code",
   "execution_count": 32,
   "id": "9ea3e824-dafa-4681-a707-0811992e713f",
   "metadata": {},
   "outputs": [
    {
     "name": "stdout",
     "output_type": "stream",
     "text": [
      "\n",
      "Tipe data kolom 'Bedrooms' sesudah perubahan:\n",
      "float64\n"
     ]
    }
   ],
   "source": [
    "nana['Bedrooms'] = nana['Bedrooms'].astype(float)\n",
    "print(\"\\nTipe data kolom 'Bedrooms' sesudah perubahan:\")\n",
    "print(nana['Bedrooms'].dtype)"
   ]
  },
  {
   "cell_type": "markdown",
   "id": "b14a24fc-cab0-4bfd-aef8-b4b5f77a2174",
   "metadata": {},
   "source": [
    "<h4>Melakukan One Hot Encoding pada dataset</h4>"
   ]
  },
  {
   "cell_type": "code",
   "execution_count": 33,
   "id": "76728147-c01e-4599-91a2-9dc010848c5f",
   "metadata": {},
   "outputs": [],
   "source": [
    "oneHot = OneHotEncoder(sparse=False)"
   ]
  },
  {
   "cell_type": "markdown",
   "id": "cafaff46-6686-455d-b3e0-d022c672d757",
   "metadata": {},
   "source": [
    "Tentukan target terlebih dahulu, disini memakai 'Superhost'"
   ]
  },
  {
   "cell_type": "code",
   "execution_count": 34,
   "id": "3e69c44a-dfb5-4ec9-8728-8de148d51ed8",
   "metadata": {},
   "outputs": [
    {
     "data": {
      "text/plain": [
       "array([False,  True])"
      ]
     },
     "execution_count": 34,
     "metadata": {},
     "output_type": "execute_result"
    }
   ],
   "source": [
    "nana.Superhost.unique()"
   ]
  },
  {
   "cell_type": "code",
   "execution_count": 35,
   "id": "b9049cb8-1f75-48f2-b808-e881163d6ed4",
   "metadata": {},
   "outputs": [
    {
     "name": "stderr",
     "output_type": "stream",
     "text": [
      "C:\\Users\\NADIFA SALSABILA\\AppData\\Local\\Programs\\Python\\Python310\\lib\\site-packages\\sklearn\\preprocessing\\_encoders.py:975: FutureWarning: `sparse` was renamed to `sparse_output` in version 1.2 and will be removed in 1.4. `sparse_output` is ignored unless you leave `sparse` to its default value.\n",
      "  warnings.warn(\n"
     ]
    }
   ],
   "source": [
    "Superhost = oneHot.fit_transform(nana[['Superhost']])\n",
    "Superhost = pd.DataFrame(Superhost)\n",
    "\n",
    "nana['False'] = Superhost[0]\n",
    "nana['True'] = Superhost[1]"
   ]
  },
  {
   "cell_type": "code",
   "execution_count": 36,
   "id": "8d716cbb-52b3-4cbb-be21-0c710284bfc0",
   "metadata": {},
   "outputs": [
    {
     "data": {
      "text/html": [
       "<div>\n",
       "<style scoped>\n",
       "    .dataframe tbody tr th:only-of-type {\n",
       "        vertical-align: middle;\n",
       "    }\n",
       "\n",
       "    .dataframe tbody tr th {\n",
       "        vertical-align: top;\n",
       "    }\n",
       "\n",
       "    .dataframe thead th {\n",
       "        text-align: right;\n",
       "    }\n",
       "</style>\n",
       "<table border=\"1\" class=\"dataframe\">\n",
       "  <thead>\n",
       "    <tr style=\"text-align: right;\">\n",
       "      <th></th>\n",
       "      <th>City</th>\n",
       "      <th>Price</th>\n",
       "      <th>Day</th>\n",
       "      <th>Room Type</th>\n",
       "      <th>Shared Room</th>\n",
       "      <th>Private Room</th>\n",
       "      <th>Person Capacity</th>\n",
       "      <th>Superhost</th>\n",
       "      <th>Multiple Rooms</th>\n",
       "      <th>Business</th>\n",
       "      <th>...</th>\n",
       "      <th>Guest Satisfaction</th>\n",
       "      <th>Bedrooms</th>\n",
       "      <th>City Center (km)</th>\n",
       "      <th>Metro Distance (km)</th>\n",
       "      <th>Attraction Index</th>\n",
       "      <th>Normalised Attraction Index</th>\n",
       "      <th>Restraunt Index</th>\n",
       "      <th>Normalised Restraunt Index</th>\n",
       "      <th>False</th>\n",
       "      <th>True</th>\n",
       "    </tr>\n",
       "  </thead>\n",
       "  <tbody>\n",
       "    <tr>\n",
       "      <th>0</th>\n",
       "      <td>Amsterdam</td>\n",
       "      <td>194.033698</td>\n",
       "      <td>Weekday</td>\n",
       "      <td>Private room</td>\n",
       "      <td>False</td>\n",
       "      <td>True</td>\n",
       "      <td>2.0</td>\n",
       "      <td>False</td>\n",
       "      <td>1</td>\n",
       "      <td>0</td>\n",
       "      <td>...</td>\n",
       "      <td>93.0</td>\n",
       "      <td>1.0</td>\n",
       "      <td>5.022964</td>\n",
       "      <td>2.539380</td>\n",
       "      <td>78.690379</td>\n",
       "      <td>4.166708</td>\n",
       "      <td>98.253896</td>\n",
       "      <td>6.846473</td>\n",
       "      <td>1.0</td>\n",
       "      <td>0.0</td>\n",
       "    </tr>\n",
       "    <tr>\n",
       "      <th>1</th>\n",
       "      <td>Amsterdam</td>\n",
       "      <td>344.245776</td>\n",
       "      <td>Weekday</td>\n",
       "      <td>Private room</td>\n",
       "      <td>False</td>\n",
       "      <td>True</td>\n",
       "      <td>4.0</td>\n",
       "      <td>False</td>\n",
       "      <td>0</td>\n",
       "      <td>0</td>\n",
       "      <td>...</td>\n",
       "      <td>85.0</td>\n",
       "      <td>1.0</td>\n",
       "      <td>0.488389</td>\n",
       "      <td>0.239404</td>\n",
       "      <td>631.176378</td>\n",
       "      <td>33.421209</td>\n",
       "      <td>837.280757</td>\n",
       "      <td>58.342928</td>\n",
       "      <td>1.0</td>\n",
       "      <td>0.0</td>\n",
       "    </tr>\n",
       "    <tr>\n",
       "      <th>2</th>\n",
       "      <td>Amsterdam</td>\n",
       "      <td>264.101422</td>\n",
       "      <td>Weekday</td>\n",
       "      <td>Private room</td>\n",
       "      <td>False</td>\n",
       "      <td>True</td>\n",
       "      <td>2.0</td>\n",
       "      <td>False</td>\n",
       "      <td>0</td>\n",
       "      <td>1</td>\n",
       "      <td>...</td>\n",
       "      <td>87.0</td>\n",
       "      <td>1.0</td>\n",
       "      <td>5.748312</td>\n",
       "      <td>3.651621</td>\n",
       "      <td>75.275877</td>\n",
       "      <td>3.985908</td>\n",
       "      <td>95.386955</td>\n",
       "      <td>6.646700</td>\n",
       "      <td>1.0</td>\n",
       "      <td>0.0</td>\n",
       "    </tr>\n",
       "    <tr>\n",
       "      <th>3</th>\n",
       "      <td>Amsterdam</td>\n",
       "      <td>433.529398</td>\n",
       "      <td>Weekday</td>\n",
       "      <td>Private room</td>\n",
       "      <td>False</td>\n",
       "      <td>True</td>\n",
       "      <td>4.0</td>\n",
       "      <td>False</td>\n",
       "      <td>0</td>\n",
       "      <td>1</td>\n",
       "      <td>...</td>\n",
       "      <td>90.0</td>\n",
       "      <td>2.0</td>\n",
       "      <td>0.384862</td>\n",
       "      <td>0.439876</td>\n",
       "      <td>493.272534</td>\n",
       "      <td>26.119108</td>\n",
       "      <td>875.033098</td>\n",
       "      <td>60.973565</td>\n",
       "      <td>1.0</td>\n",
       "      <td>0.0</td>\n",
       "    </tr>\n",
       "    <tr>\n",
       "      <th>4</th>\n",
       "      <td>Amsterdam</td>\n",
       "      <td>485.552926</td>\n",
       "      <td>Weekday</td>\n",
       "      <td>Private room</td>\n",
       "      <td>False</td>\n",
       "      <td>True</td>\n",
       "      <td>2.0</td>\n",
       "      <td>True</td>\n",
       "      <td>0</td>\n",
       "      <td>0</td>\n",
       "      <td>...</td>\n",
       "      <td>98.0</td>\n",
       "      <td>1.0</td>\n",
       "      <td>0.544738</td>\n",
       "      <td>0.318693</td>\n",
       "      <td>552.830324</td>\n",
       "      <td>29.272733</td>\n",
       "      <td>815.305740</td>\n",
       "      <td>56.811677</td>\n",
       "      <td>0.0</td>\n",
       "      <td>1.0</td>\n",
       "    </tr>\n",
       "  </tbody>\n",
       "</table>\n",
       "<p>5 rows × 21 columns</p>\n",
       "</div>"
      ],
      "text/plain": [
       "        City       Price      Day     Room Type  Shared Room  Private Room  \\\n",
       "0  Amsterdam  194.033698  Weekday  Private room        False          True   \n",
       "1  Amsterdam  344.245776  Weekday  Private room        False          True   \n",
       "2  Amsterdam  264.101422  Weekday  Private room        False          True   \n",
       "3  Amsterdam  433.529398  Weekday  Private room        False          True   \n",
       "4  Amsterdam  485.552926  Weekday  Private room        False          True   \n",
       "\n",
       "   Person Capacity  Superhost  Multiple Rooms  Business  ...  \\\n",
       "0              2.0      False               1         0  ...   \n",
       "1              4.0      False               0         0  ...   \n",
       "2              2.0      False               0         1  ...   \n",
       "3              4.0      False               0         1  ...   \n",
       "4              2.0       True               0         0  ...   \n",
       "\n",
       "   Guest Satisfaction  Bedrooms  City Center (km)  Metro Distance (km)  \\\n",
       "0                93.0       1.0          5.022964             2.539380   \n",
       "1                85.0       1.0          0.488389             0.239404   \n",
       "2                87.0       1.0          5.748312             3.651621   \n",
       "3                90.0       2.0          0.384862             0.439876   \n",
       "4                98.0       1.0          0.544738             0.318693   \n",
       "\n",
       "   Attraction Index  Normalised Attraction Index  Restraunt Index  \\\n",
       "0         78.690379                     4.166708        98.253896   \n",
       "1        631.176378                    33.421209       837.280757   \n",
       "2         75.275877                     3.985908        95.386955   \n",
       "3        493.272534                    26.119108       875.033098   \n",
       "4        552.830324                    29.272733       815.305740   \n",
       "\n",
       "   Normalised Restraunt Index  False  True  \n",
       "0                    6.846473    1.0   0.0  \n",
       "1                   58.342928    1.0   0.0  \n",
       "2                    6.646700    1.0   0.0  \n",
       "3                   60.973565    1.0   0.0  \n",
       "4                   56.811677    0.0   1.0  \n",
       "\n",
       "[5 rows x 21 columns]"
      ]
     },
     "execution_count": 36,
     "metadata": {},
     "output_type": "execute_result"
    }
   ],
   "source": [
    "nana.head()"
   ]
  },
  {
   "cell_type": "code",
   "execution_count": null,
   "id": "52784d85-31ff-4525-ab39-f5565a1ed9c1",
   "metadata": {},
   "outputs": [],
   "source": []
  }
 ],
 "metadata": {
  "kernelspec": {
   "display_name": "Python 3 (ipykernel)",
   "language": "python",
   "name": "python3"
  },
  "language_info": {
   "codemirror_mode": {
    "name": "ipython",
    "version": 3
   },
   "file_extension": ".py",
   "mimetype": "text/x-python",
   "name": "python",
   "nbconvert_exporter": "python",
   "pygments_lexer": "ipython3",
   "version": "3.10.7"
  }
 },
 "nbformat": 4,
 "nbformat_minor": 5
}
